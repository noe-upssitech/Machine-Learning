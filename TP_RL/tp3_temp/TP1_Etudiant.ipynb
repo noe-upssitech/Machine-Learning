{
  "cells": [
    {
      "cell_type": "markdown",
      "metadata": {
        "id": "pOdksYCAQjQa"
      },
      "source": [
        "Pour faire tourner ce notebook, vous devez avoir les fichiers frozen_lake_deterministic_transition.npy et frozen_lake_stochastic_transition.npy au même emplacement que votre notebook. Ces deux fichiers vous permetterons de générer les environnements. "
      ]
    },
    {
      "cell_type": "markdown",
      "metadata": {
        "id": "72y9j2sfQjQv"
      },
      "source": [
        "# Reinforcement Learning - Practical Session 1\n",
        "\n",
        "\n",
        "## Présentation\n",
        "\n",
        "Un processus de décision de Markov (PDM) est défini comme un tuple $(S, A, P, r, \\gamma)$ où :\n",
        "* $S$ est l'espace d'état\n",
        "* $A$ est l'espace des actions \n",
        "* $P$ représente les probabilités de transition, $P(s,a,s')$ est la probabilité d'arriver à l'état $s'$ en faisant l'action $a$ dans l'état $s$.\n",
        "* $r$ est la fonction de récompense telle que $r(s,a,s')$ est la récompense obtenue en prenant l'action $a$ dans l'état $s$ et en arrivant à $s'$.\n",
        "* $\\gamma$ est le facteur d'actualisationor\n",
        "\n",
        "Une politique déterministe $\\pi$ est une correspondance de $S$ à $A$ : $\\pi(s)$ est l'action à prendre à l'état $s$.\n",
        "\n",
        "L'objectif de l'agent est de trouver la politique $\\pi$ qui maximise la somme attendue des récompenses actualisées en suivant $\\pi$. La valeur de $\\pi$ est définie comme suit\n",
        "\n",
        "$$\n",
        "V_\\pi(s) = E\\left[ \\sum_{t=0}^\\infty \\gamma^t r(S_t, A_t, S_{t+1}) | S_0 = s \\right]\n",
        "$$\n",
        "\n",
        "On peut montrer que la fonction de valeur optimale, définie comme étant $V^*(s) = \\max_\\pi V_\\pi(s)$, satisfait l'équation de Bellman :\n",
        "\n",
        "$$\n",
        "V_\\pi(s) = \\sum_{s' \\in S}  P(s,\\pi(s),s')[r(s,\\pi(s),s') + \\gamma V_\\pi(s')]\n",
        "$$\n",
        "\n",
        "\n",
        "$$\n",
        "V^*(s) = \\max_{a\\in A} \\sum_{s' \\in S}  P(s,a,s')[r(s,a,s') + \\gamma V^*(s')]\n",
        "$$\n",
        "\n",
        "Il est parfois préférable de travailler avec les Q fonctions :\n",
        "\n",
        "$$\n",
        "Q_\\pi(s, a) = \\sum_{s' \\in S}  P(s,a,s')[r(s,a,s') + \\gamma  Q^\\pi(s', \\pi(s')]\n",
        "$$\n",
        "\n",
        "\n",
        "$$\n",
        "Q^*(s, a) = \\sum_{s' \\in S}  P(s,a,s')[r(s,a,s') + \\gamma \\max_{a'} Q^*(s', a')]\n",
        "$$\n",
        "\n",
        "tel que $V_\\pi(s) = Q_\\pi(s, \\pi(s))$ et $V^*(s) = \\max_a Q^*(s, a)$.\n",
        "\n",
        "\n",
        "### Utilisation de l'itération des valeurs pour calculer une politique optimale\n",
        "Si la fonction de récompense et les probabilités de transition sont connues (et que les espaces d'état et d'action ne sont pas très grands), nous pouvons utiliser des méthodes de programmation dynamique pour calculer $V^*(s)$. L'itération de valeurs est une façon de le faire.\n",
        "\n",
        "\n",
        "#####  Itération de valeurs pour calculer $V^*(s)$:\n",
        "$$\n",
        "T^* Q(s,a) = \\sum_{s'}P(s'|s,a)[ r(s, a, s') + \\gamma \\max_{a'} Q(s', a')]   \\\\\n",
        "$$\n",
        "\n",
        "\n",
        "* Pour tout $Q_0$, soit $Q_n = T^* Q_{n-1}$. \n",
        "* On a $\\lim_{n\\to\\infty}Q_n = Q^*$ et $Q^* = T^* Q^*$.\n",
        "\n",
        "\n",
        "#### Trouver la politique optimale à partir de  $V^\\pi(s)$:\n",
        "\n",
        "La politique optimale $\\pi^*$ peut être calculée de la façon suivante\n",
        "\n",
        "$$\n",
        "\\pi^*(s) \\in \\arg\\max_{a\\in A} Q^*(s, a) =  \\arg\\max_{a\\in A} \\sum_{s' \\in S}  P(s,a,s')[r(s,a,s') + \\gamma V^*(s')]\n",
        "$$\n",
        "\n",
        "###  Q-Learning et SARSA \n",
        "\n",
        "Lorsque la fonction de récompense et les probabilités de transition sont *inconnues*, nous ne pouvons pas utiliser la programmation dynamique pour trouver la fonction de valeur optimale. Q-Learning et SARSA sont des algorithmes d'approximation stochastique qui nous permettent d'estimer la fonction de valeur en utilisant uniquement des échantillons de l'environnement.\n",
        "\n",
        "#####  Q-learning\n",
        "\n",
        "L'algorithme Q-Learning nous permet d'estimer la Q fonction optimale en utilisant uniquement les trajectoires du MDP obtenues en suivant une certaine politique d'exploration. \n",
        "\n",
        "Q-learning avec une exploration de type $\\varepsilon$-greedy effectue la mise à jour suivante au temps $t$ :\n",
        "\n",
        "1. Dans l'état $s_t$, on effectue une action $a_t$ telle que $a_t$ est aléatoire avec une probabilité $\\varepsilon$ et $a_t \\in \\arg\\max_a \\hat{Q}_t(s_t,a) $ avec une probabilité $1-\\varepsilon$ ;\n",
        "2. Observer $s_{t+1}$ et la récompense $r_t$ ;\n",
        "3. Calculer $\\delta_t = r_t + \\gamma   \\max_a \\hat{Q}_t(s_{t+1}, a) - \\hat{Q}_t(s_t, a_t)$ ;\n",
        "4. Mettre à jour $\\hat{Q}_{t+1}(s, a) = \\hat{Q}_t(s, a) + \\alpha_t(s,a)\\delta_t\\mathbb{1}\\{s=s_t, a=a_t\\} $.\n",
        "\n",
        "\n",
        "##### SARSA\n",
        "\n",
        "SARSA est similaire à l'apprentissage Q, mais c'est un algorithme *sur-politique* : il suit une politique (stochastique) $\\pi_Q$ et met à jour son estimation vers la valeur de cette politique. Un choix possible est le suivant :\n",
        "\n",
        "$$\n",
        "\\pi_Q(a|s) = \\frac{ \\exp(\\tau^{-1}Q(s,a))  }{\\sum_{a'}\\exp(\\tau^{-1}Q(s,a')) }\n",
        "$$\n",
        "où $\\tau$ est un paramètre de \"contrôle\" : lorsque $\\tau$ s'approche de 0, $\\pi_Q(a|s)$ se rapproche de la politique greedy (déterministe) $a \\in \\arg\\max_{a'}Q(s,a')$.\n",
        "\n",
        "À chaque instant $t$, SARSA conserve une estimation $\\hat{Q}_t$ de la vraie  Q fonction et utilise $\\pi_{\\hat{Q}_t}(a|s)$ pour choisir l'action $a_t$. Si $\\tau \\to 0$ avec un taux approprié comme $t \\to \\infty$, $\\hat{Q}_t$ converge vers $Q$ et $\\pi_{\\hat{Q}_t}(a|s)$ converge vers la politique optimale $\\pi^*$.\n",
        "\n",
        "La mise à jour SARSA au temps $t$ se fait comme suit :\n",
        "\n",
        "1. Dans l'état $s_t$, on effectue l'action $a_t \\sim \\pi_{\\hat{Q}_t}(a|s_t)$ ;\n",
        "2. Observer $s_{t+1}$ et la récompense $r_t$ ;\n",
        "3. Echantillonner l'action suivante $a_{t+1} \\sim \\pi_{\\hat{Q}_t}(a|s_{t+1})$;\n",
        "4. Calculer $\\delta_t = r_t + \\gamma \\hat{Q}_t(s_{t+1}, a_{t+1}) - \\hat{Q}_t(s_t, a_t)$.\n",
        "5. Actualisez $ \\hat{Q}_{t+1}(s, a) = \\hat{Q}_t(s, a) + \\alpha_t(s,a)\\delta_t\\mathbb{1}\\{s=s_t, a=a_t\\}$.\n",
        "\n",
        "## Objectifs\n",
        "\n",
        "Votre objectif est d'implémenter l'itération de valeurs, le Q-Learning et SARSA pour l'environnement [Frozen Lake](https://gym.openai.com/envs/FrozenLake-v0/).\n",
        "\n",
        "* Dans l'exercice 1, vous implémenterez les opérateurs de Bellman $T^\\pi$ et $T^*$ et vérifierez leurs propriétés.\n",
        "* Dans l'exercice 2, vous implémenterez l'itération de valeurs.\n",
        "* Dans les exercices 3 et 4, vous implémenterez Q-Learning et SARSA\n"
      ]
    },
    {
      "cell_type": "markdown",
      "metadata": {
        "id": "UZ5nZw2_cZ6H"
      },
      "source": [
        "Voici dans un premier temps quelques fonctions qui vous permetteront d'évoluer dans votre environnement"
      ]
    },
    {
      "cell_type": "code",
      "execution_count": 23,
      "metadata": {
        "id": "EsnPSMyKmE3L"
      },
      "outputs": [],
      "source": [
        "from abc import ABC, abstractmethod\n",
        "import numpy as np\n",
        "\n",
        "\n",
        "class FiniteEnv(ABC):\n",
        "    \"\"\"\n",
        "    Base class for a finite MDP.\n",
        "\n",
        "    Args:\n",
        "        states      (list): List of legnth S containing the indexes of the states, e.g. [0,1,2]\n",
        "        action_sets (list): List containing the actions available in each state, e.g. [[0,1], [2,3]],\n",
        "                            action_sets[i][j] returns the index of the j-th available action in state i\n",
        "        P       (np.array): Array of shape (Ns, Na, Ns) containing the transition probabilities,\n",
        "                            P[s, a, s'] = Prob(S_{t+1}=s'| S_t = s, A_t = a). \n",
        "        gamma      (float): discount factor\n",
        "\n",
        "\n",
        "    Attributes:\n",
        "        Ns   (int): Number of states\n",
        "        Na   (int): Number of actions\n",
        "        actions (list): list containing all possible actions = [0, 1, ..., Na-1]\n",
        "\n",
        "    \"\"\"\n",
        "    def __init__(self, states, action_sets, P, gamma):\n",
        "\n",
        "        self.states = states\n",
        "        self.action_sets = action_sets\n",
        "        self.actions = list(set().union(*action_sets))\n",
        "        self.Ns = len(states)\n",
        "        self.Na = len(self.actions)\n",
        "        self.P = P\n",
        "\n",
        "        self.state = 0  # initial state\n",
        "        self.gamma = gamma\n",
        "        self.reset()\n",
        "        super().__init__()\n",
        "\n",
        "    def available_actions(self, state=None):\n",
        "        \"\"\"\n",
        "        Return all actions available in a given state.\n",
        "        \"\"\"\n",
        "        if state is not None:\n",
        "            return self.action_sets[state]\n",
        "        return self.action_sets[self.state]\n",
        "\n",
        "    @abstractmethod\n",
        "    def reset(self):\n",
        "        \"\"\"\n",
        "        Reset the environment to a default state.\n",
        "\n",
        "        Returns:\n",
        "            state (object)\n",
        "        \"\"\"\n",
        "        pass\n",
        "\n",
        "    @abstractmethod\n",
        "    def reward_func(self, state, action, next_state):\n",
        "        \"\"\"\n",
        "        Args:\n",
        "            state      (int): current state\n",
        "            action     (int): current action\n",
        "            next_state (int): next state\n",
        "\n",
        "        Returns:\n",
        "            reward (float)\n",
        "        \"\"\"\n",
        "        pass\n",
        "\n",
        "    @abstractmethod\n",
        "    def step(self, action):\n",
        "        \"\"\"\n",
        "        Execute a step. Similar to gym function [1].\n",
        "        [1] https://gym.openai.com/docs/#environments\n",
        "\n",
        "        Args:\n",
        "            action (int): index of the action to take\n",
        "\n",
        "        Returns:\n",
        "            observation (object)\n",
        "            reward      (float)\n",
        "            done        (bool)\n",
        "            info        (dict)\n",
        "        \"\"\"\n",
        "        pass\n",
        "\n",
        "    @abstractmethod\n",
        "    def sample_transition(self, s, a):\n",
        "        \"\"\"\n",
        "        Sample a transition s' from P(s'|s,a).\n",
        "\n",
        "        Args:\n",
        "            s (int): index of state\n",
        "            a (int): index of action\n",
        "\n",
        "        Returns:\n",
        "            ss (int): index of next state\n",
        "        \"\"\"\n",
        "        pass"
      ]
    },
    {
      "cell_type": "code",
      "execution_count": 24,
      "metadata": {
        "id": "d95uJUcEi02_"
      },
      "outputs": [],
      "source": [
        "import numpy as np\n",
        "import os\n",
        "\n",
        "\n",
        "class MDP(FiniteEnv):\n",
        "    \"\"\"\n",
        "    Enviroment with 3 states and 2 actions per state that gives a reward of 1 when going to the\n",
        "    last state and 0 otherwise.\n",
        "\n",
        "    Args:\n",
        "        gamma (float): discount factor\n",
        "        seed    (int): Random number generator seed\n",
        "\n",
        "    \"\"\"\n",
        "\n",
        "    def __init__(self, P, bad_states=[], gamma=0.99, seed=42):\n",
        "        # Set seed\n",
        "        self.RS = np.random.RandomState(seed)\n",
        "\n",
        "        # Transition probabilities\n",
        "        # shape (Ns, Na, Ns)\n",
        "        # P[s, a, s'] = Prob(S_{t+1}=s'| S_t = s, A_t = a)\n",
        " \n",
        "        P = P\n",
        "        Ns, Na, _ = P.shape\n",
        "        \n",
        "        self.Ns = Ns\n",
        "        self.Na = Na\n",
        "        self.bad_states = set(bad_states)\n",
        "\n",
        "        # Initialize base class\n",
        "        states = np.arange(Ns).tolist()\n",
        "        action_sets = [np.arange(Na).tolist()]*Ns\n",
        "        super().__init__(states, action_sets, P, gamma)\n",
        "\n",
        "    def reward_func(self, state, action, next_state):\n",
        "        return 1.0 * (next_state == self.Ns - 1) \n",
        "\n",
        "    def reset(self, s=0):\n",
        "        self.state = s\n",
        "        return self.state\n",
        "\n",
        "    def step(self, action):\n",
        "        next_state = self.sample_transition(self.state, action)\n",
        "        reward = self.reward_func(self.state, action, next_state)\n",
        "        \n",
        "        if self.state in self.bad_states or self.state == self.Ns-1:\n",
        "            done = True\n",
        "        else:\n",
        "            done = False\n",
        "            \n",
        "        info = {}\n",
        "        self.state = next_state\n",
        "\n",
        "        observation = next_state\n",
        "        return observation, reward, done, info\n",
        "\n",
        "    def sample_transition(self, s, a):\n",
        "        prob = self.P[s,a,:]\n",
        "        s_ = self.RS.choice(self.states, p = prob)\n",
        "        return s_\n",
        "    \n",
        "    def render(self):        \n",
        "        \n",
        "        env_to_print = \"S\"\n",
        "\n",
        "        \n",
        "        for state in range(1,self.Ns-1) :\n",
        "            if state % 4 == 0:\n",
        "                env_to_print += \"\\n\"\n",
        "            \n",
        "            if state in self.bad_states:\n",
        "                env_to_print += \"H\"\n",
        "            else:\n",
        "                env_to_print += \"F\"\n",
        "                    \n",
        "        env_to_print += \"G\"\n",
        "        \n",
        "        print(\"(S: starting point, safe) (F: frozen surface, safe) (H: hole, fall to your doom) (G: goal, where the frisbee is located)\")\n",
        "        print(\"=================\")\n",
        "        print(env_to_print)\n",
        "        print(\"=================\")\n",
        "        print(\"Current state\", self.state)\n",
        "        \n",
        "        \n",
        "class FrozenLake(MDP):\n",
        "    def __init__(self, gamma=0.99, deterministic=False, data_path=\"./data\"):\n",
        "        if deterministic:\n",
        "            P = np.load( \"frozen_lake_deterministic_transition.npy\")\n",
        "        else:\n",
        "            P = np.load(\"frozen_lake_stochastic_transition.npy\")\n",
        "        bad_states = [5, 7, 11, 12]\n",
        "        super().__init__(P=P, bad_states=bad_states, gamma=gamma)"
      ]
    },
    {
      "cell_type": "code",
      "execution_count": 25,
      "metadata": {
        "id": "wAAgA6plWoTd"
      },
      "outputs": [],
      "source": [
        "import numpy as np\n",
        "from abc import ABC, abstractmethod\n",
        "import numpy as np\n",
        "\n",
        "\n",
        "class ToyEnv1(FiniteEnv):\n",
        "    \"\"\"\n",
        "    Enviroment with 3 states and 2 actions per state that gives a reward of 1 when going to the\n",
        "    last state and 0 otherwise.\n",
        "\n",
        "    Args:\n",
        "        gamma (float): discount factor\n",
        "        seed    (int): Random number generator seed\n",
        "\n",
        "    \"\"\"\n",
        "\n",
        "    def __init__(self, gamma=0.99, seed=42):\n",
        "        # Set seed\n",
        "        self.RS = np.random.RandomState(seed)\n",
        "\n",
        "        # Transition probabilities\n",
        "        # shape (Ns, Na, Ns)\n",
        "        # P[s, a, s'] = Prob(S_{t+1}=s'| S_t = s, A_t = a)\n",
        "\n",
        "        Ns = 3\n",
        "        Na = 2\n",
        "        P = np.zeros((Ns, Na, Ns))\n",
        "\n",
        "        P[:, 0, :] = np.array([[0.25, 0.5, 0.25], [0.1, 0.7, 0.2], [0.1, 0.8, 0.1]])\n",
        "        P[:, 1, :] = np.array([[0.3, 0.3, 0.4], [0.7, 0.2, 0.1], [0.25, 0.25, 0.5]])\n",
        "\n",
        "        # Initialize base class\n",
        "        states = np.arange(Ns).tolist()\n",
        "        action_sets = [np.arange(Na).tolist()]*Ns\n",
        "        super().__init__(states, action_sets, P, gamma)\n",
        "\n",
        "    def reward_func(self, state, action, next_state):\n",
        "        return 1.0 * (next_state == self.Ns - 1)\n",
        "\n",
        "    def reset(self, s=0):\n",
        "        self.state = s\n",
        "        return self.state\n",
        "\n",
        "    def step(self, action):\n",
        "        next_state = self.sample_transition(self.state, action)\n",
        "        reward = self.reward_func(self.state, action, next_state)\n",
        "        done = False\n",
        "        info = {}\n",
        "        self.state = next_state\n",
        "\n",
        "        observation = next_state\n",
        "        return observation, reward, done, info\n",
        "\n",
        "    def sample_transition(self, s, a):\n",
        "        prob = self.P[s,a,:]\n",
        "        s_ = self.RS.choice(self.states, p = prob)\n",
        "        return s_"
      ]
    },
    {
      "cell_type": "code",
      "execution_count": 26,
      "metadata": {
        "id": "Iz-CDZgBQjQx"
      },
      "outputs": [],
      "source": [
        "import sys\n",
        "import numpy as np\n",
        "from scipy.special import softmax # for SARSA\n",
        "import matplotlib.pyplot as plt\n",
        "\n"
      ]
    },
    {
      "cell_type": "markdown",
      "metadata": {
        "id": "vx81eEx-QjQ7"
      },
      "source": [
        "# FrozenLake environment"
      ]
    },
    {
      "cell_type": "code",
      "execution_count": 27,
      "metadata": {
        "colab": {
          "base_uri": "https://localhost:8080/"
        },
        "id": "PnP-CsIUQjQ9",
        "outputId": "5296614d-56a2-41f1-8243-a5a89f4a6825"
      },
      "outputs": [
        {
          "name": "stdout",
          "output_type": "stream",
          "text": [
            "Set of states: [0, 1, 2, 3, 4, 5, 6, 7, 8, 9, 10, 11, 12, 13, 14, 15]\n",
            "Set of actions: [0, 1, 2, 3]\n",
            "Number of states:  16\n",
            "Number of actions:  4\n",
            "P has shape:  (16, 4, 16)\n",
            "discount factor:  0.95\n",
            "\n",
            "initial state:  0\n",
            "reward at (s=1, a=3,s'=2):  0.0\n",
            "\n",
            "random policy =  [3 0 0 1 1 1 3 3 2 2 1 1 2 3 2 2]\n",
            "(s, a, s', r):\n",
            "0 3 0 0.0\n",
            "0 3 0 0.0\n",
            "0 3 0 0.0\n",
            "0 3 0 0.0\n",
            "\n",
            "(S: starting point, safe) (F: frozen surface, safe) (H: hole, fall to your doom) (G: goal, where the frisbee is located)\n",
            "=================\n",
            "SFFF\n",
            "FHFH\n",
            "FFFH\n",
            "HFFG\n",
            "=================\n",
            "Current state 0\n"
          ]
        }
      ],
      "source": [
        "# Creating an instance of FrozenLake\n",
        "# --- If deterministic=False, transitions are stochastic. Try both cases!\n",
        "env = FrozenLake(gamma=0.95, deterministic=True) \n",
        "# Small environment for debugging\n",
        "#env = ToyEnv1(gamma=0.95)\n",
        "\n",
        "# Useful attributes\n",
        "print(\"Set of states:\", env.states)\n",
        "print(\"Set of actions:\", env.actions)\n",
        "print(\"Number of states: \", env.Ns)\n",
        "print(\"Number of actions: \", env.Na)\n",
        "print(\"P has shape: \", env.P.shape)  # P[s, a, s'] = env.P[s, a, s']\n",
        "print(\"discount factor: \", env.gamma)\n",
        "print(\"\")\n",
        "\n",
        "# Useful methods\n",
        "state = env.reset() # get initial state\n",
        "print(\"initial state: \", state)\n",
        "print(\"reward at (s=1, a=3,s'=2): \", env.reward_func(1,3,2))\n",
        "print(\"\")\n",
        "\n",
        "# A random policy\n",
        "policy = np.random.randint(env.Na, size = (env.Ns,))\n",
        "print(\"random policy = \", policy)\n",
        "\n",
        "# Interacting with the environment\n",
        "print(\"(s, a, s', r):\")\n",
        "for time in range(4):\n",
        "    action = policy[state]\n",
        "    next_state, reward, done, info = env.step(action)\n",
        "    print(state, action, next_state, reward)\n",
        "    if done:\n",
        "        break\n",
        "    state = next_state\n",
        "print(\"\")\n",
        "\n",
        "# Visualizing the environment\n",
        "try:\n",
        "    env.render()\n",
        "except:\n",
        "    pass # render not available"
      ]
    },
    {
      "cell_type": "markdown",
      "metadata": {
        "id": "bbWEUdr9QjRU"
      },
      "source": [
        "# Exercise 1: Bellman operator\n",
        "\n",
        "1. Écrire une fonction qui prend en entrée un environnement et une fonction de valeur état-action $Q$ et qui renvoie l'opérateur d'optimalité de Bellman appliqué à $Q$, $T^* Q$ et la politique greedy par rapport à $Q$.\n",
        "\n",
        "\n",
        "La propriété de contraction de l'opérateur de Bellman est utilisée pour garantir la convergence d'algorithmes d'apprentissage par renforcement comme l'algorithme Q-learning et SARSA. Elle stipule que si une fonction d'utilité V est utilisée pour approximer la fonction de valeur optimale Q* pour un environnement donné, alors l'application de l'opérateur de Bellman sur V produira une fonction V' qui est plus proche de Q* que V lui-même. Cela signifie que lorsque l'algorithme itère en utilisant l'opérateur de Bellman pour mettre à jour sa fonction d'utilité, il converge vers la fonction de valeur optimale Q*. Cette propriété est importante pour garantir la convergence de l'algorithme et assurer qu'il trouve la politique optimale pour un environnement donné.\n",
        "\n",
        "2. Soit $Q_1$ et $Q_2$ des fonctions de valeur état-action. Vérifier la propriété de contraction : $\\Vert T^* Q_1 - T^* Q_2\\Vert \\leq \\gamma ||Q_1 - Q_2||$, où $||V|| = \\max_{s,a} |Q(s,a)|$.\n",
        "\n",
        "Rappelons $\n",
        "T^* Q(s,a) = \\sum_{s'}P(s'|s,a)[ r(s, a, s') + \\gamma \\max_{a'} Q(s', a')] .\n",
        "$"
      ]
    },
    {
      "cell_type": "code",
      "execution_count": 28,
      "metadata": {
        "id": "EEbRmWWUItZ7"
      },
      "outputs": [],
      "source": [
        "# --------------\n",
        "# My answer to 1.\n",
        "# --------------\n",
        "def bellman_operator(Q, env):\n",
        "    # Initialisation de TQ et greedy_policy\n",
        "    TQ = np.zeros((env.Ns, env.Na))\n",
        "    greedy_policy = []\n",
        "    \n",
        "    for state in env.states :\n",
        "        for action in env.actions :\n",
        "            rewards = []\n",
        "            prob = env.P[state, action, :]\n",
        "            #On parcourt tous les états suivants possibles\n",
        "            for next_state in env.states: \n",
        "                rewards.append(env.reward_func(state, action, next_state))               \n",
        "            TQ[state, action] = np.sum( prob*(rewards + env.gamma*Q.max(axis=1)))\n",
        "            \n",
        "    #On en déduit le comportement de la greedy_policy \n",
        "    greedy_policy = np.argmax(TQ, axis=1)\n",
        "    return (TQ, greedy_policy)"
      ]
    },
    {
      "cell_type": "code",
      "execution_count": 29,
      "metadata": {
        "id": "eyY1PQh9Iv9L"
      },
      "outputs": [
        {
          "name": "stdout",
          "output_type": "stream",
          "text": [
            "Propriete de contraction :  True\n"
          ]
        }
      ],
      "source": [
        "# --------------\n",
        "# My answer to 2.\n",
        "# --------------\n",
        "n_simulations = 200\n",
        "\n",
        "#lancer pour n_simulation\n",
        "for i in range(n_simulations):\n",
        "    Q1 = np.random.randn(env.Ns, env.Na)\n",
        "    Q2 = np.random.randn(env.Ns, env.Na)\n",
        "\n",
        "print(\"Propriete de contraction : \",(np.abs((bellman_operator(Q1, env)[0] - bellman_operator(Q2, env)[0]).max()) / np.abs(Q1-Q2).max()) < 1)"
      ]
    },
    {
      "cell_type": "markdown",
      "metadata": {
        "id": "aSx1e54QQjR5"
      },
      "source": [
        "# Exercise 2: Value iteration\n",
        "\n",
        "1. (Fonction de valeur optimale) Ecrivez une fonction qui prend en entrée une fonction de valeur état-action initiale `Q0` et un environnement `env` et qui retourne un vecteur `Q` tel que $||T^* Q - Q ||_\\infty \\leq \\varepsilon $ et la politique greedy par rapport à $Q$.\n",
        "2. Testez la convergence de la fonction que vous avez implémentée.\n",
        "3. Affichez $Q$ et $V$"
      ]
    },
    {
      "cell_type": "code",
      "execution_count": 30,
      "metadata": {
        "id": "lePBq3DZJ_jm"
      },
      "outputs": [],
      "source": [
        "# --------------\n",
        "# Your answer to 1.\n",
        "# --------------\n",
        "def value_iteration(Q0, env, epsilon):\n",
        "    #Initialisation\n",
        "    Q = Q0\n",
        "    (TQ, greedy_policy) = bellman_operator(Q, env)\n",
        "    while (np.max(np.abs(TQ - Q)) > epsilon):\n",
        "        Q = TQ\n",
        "        (TQ, greedy_policy) = bellman_operator(Q, env)  \n",
        "    return (Q, greedy_policy) "
      ]
    },
    {
      "cell_type": "code",
      "execution_count": 31,
      "metadata": {
        "id": "B_bRBYANKAun"
      },
      "outputs": [
        {
          "name": "stdout",
          "output_type": "stream",
          "text": [
            "Greedy policy :  [1 2 1 0 1 0 1 0 2 1 1 0 0 2 2 0]\n",
            "Erreur :  9.668818954366998e-07\n",
            "Erreur < Epsilon : True\n"
          ]
        }
      ],
      "source": [
        "# --------------\n",
        "# My answer to 2.\n",
        "# --------------\n",
        "epsilon = 1e-6\n",
        "Q0 = np.zeros((env.Ns, env.Na))\n",
        "(Q, greedy_policy) = value_iteration(Q0, env, epsilon)\n",
        "print(\"Greedy policy : \", greedy_policy)\n",
        "err = np.abs(Q - bellman_operator(Q, env)[0]).max()\n",
        "print(\"Erreur : \", err)\n",
        "print(\"Erreur < Epsilon :\", err<epsilon)"
      ]
    },
    {
      "cell_type": "code",
      "execution_count": 32,
      "metadata": {
        "id": "oU6asq0jKNBp"
      },
      "outputs": [
        {
          "data": {
            "image/png": "[encoded data removed]",
            "text/plain": [
              "<Figure size 640x480 with 1 Axes>"
            ]
          },
          "metadata": {},
          "output_type": "display_data"
        },
        {
          "data": {
            "image/png": "[encoded data removed]",
            "text/plain": [
              "<Figure size 640x480 with 1 Axes>"
            ]
          },
          "metadata": {},
          "output_type": "display_data"
        }
      ],
      "source": [
        "# --------------\n",
        "# My answer to 3.\n",
        "# --------------\n",
        "#Affichage de V\n",
        "V = Q.max(axis=1)\n",
        "plt.imshow(V.reshape((4,4)))\n",
        "plt.title(\"V(s)\")\n",
        "plt.show()\n",
        "\n",
        "#Affichage de Q\n",
        "Q_show = np.zeros((12,12))\n",
        "for x in range(4):\n",
        "  for y in range(4):\n",
        "    Q_show[3*x][3*y+1] = Q[x*4+y][3] # top\n",
        "    Q_show[3*x+1][3*y] = Q[x*4+y][0] # left\n",
        "    Q_show[3*x+2][3*y+1] = Q[x*4+y][1] # bottom\n",
        "    Q_show[3*x+1][3*y+2] = Q[x*4+y][2] # right\n",
        "plt.imshow(Q_show)\n",
        "plt.title(\"Q(s, a)\")\n",
        "plt.show()"
      ]
    },
    {
      "cell_type": "markdown",
      "metadata": {
        "id": "viEDuDsMQjSq"
      },
      "source": [
        "# Exercise 3: Q-Learning\n",
        "\n",
        "\n",
        "L'algorithme Q-Learning nous permet d'estimer la Q fonction optimale en utilisant uniquement les trajectoires du MDP obtenues en suivant une certaine politique d'exploration. \n",
        "\n",
        "Q-learning avec une exploration de type $\\varepsilon$-greedy effectue la mise à jour suivante au temps $t$ :\n",
        "\n",
        "1. Dans l'état $s_t$, prendre une action $a_t$ telle que $a_t$ est aléatoire avec une probabilité $\\varepsilon$ et $a_t \\in \\arg\\max_a \\hat{Q}_t(s_t,a) $ avec une probabilité $1-\\varepsilon$ (**fonction d'action**) ;\n",
        "2. Observer $s_{t+1}$ et la récompense $r_t$ (**step dans l'environnement**) ;\n",
        "3. Calculer $\\delta_t = r_t + \\gamma \\max_a \\hat{Q}_t(s_{t+1}, a) - \\hat{Q}_t(s_t, a_t)$ (**à faire dans .optimize()**) ;\n",
        "4. Mettre à jour $\\hat{Q}_{t+1}(s, a) = \\hat{Q}_t(s, a) + \\alpha_t(s,a)\\delta_t\\mathbb{1}\\{s=s_t, a=a_t\\}$ (**à faire aussi dans .optimize**)\n",
        "\n",
        "\n",
        "Implémentez l'apprentissage Q et testez sa convergence."
      ]
    },
    {
      "cell_type": "code",
      "execution_count": 33,
      "metadata": {
        "id": "Ml-U2VfGLgMj"
      },
      "outputs": [
        {
          "ename": "SyntaxError",
          "evalue": "invalid syntax (1114529504.py, line 9)",
          "output_type": "error",
          "traceback": [
            "\u001b[1;36m  Cell \u001b[1;32mIn[33], line 9\u001b[1;36m\u001b[0m\n\u001b[1;33m    self.env =  # L'environnement de l'agent\u001b[0m\n\u001b[1;37m                ^\u001b[0m\n\u001b[1;31mSyntaxError\u001b[0m\u001b[1;31m:\u001b[0m invalid syntax\n"
          ]
        }
      ],
      "source": [
        "class QLearning:\n",
        "    \"\"\"\n",
        "    Implements Q-learning algorithm with epsilon-greedy exploration\n",
        "\n",
        "    If learning_rate is None; alpha(x,a) = 1/max(1, N(s,a))**alpha\n",
        "    \"\"\"\n",
        "    def __init__(self, env, gamma, alpha=0.6, learning_rate=None, min_learning_rate=0.01, epsilon=1.0, epsilon_decay=0.9995,\n",
        "                 epsilon_min=0.25, seed=42):\n",
        "        self.env = env # L'environnement de l'agent \n",
        "        self.gamma = gamma# Taux d'actualisation\n",
        "        self.alpha = alpha # Taux d'apprentissage\n",
        "        self.learning_rate = learning_rate # Taux d'apprentissage pour Q-learning\n",
        "        self.min_learning_rate = min_learning_rate # Taux d'apprentissage minimum pour Q-learning\n",
        "        self.epsilon = epsilon # Taux d'exploration\n",
        "        self.epsilon_decay = epsilon_decay # Taux de décroissance de l'exploration\n",
        "        self.epsilon_min = epsilon_min # Taux d'exploration minimum\n",
        "        self.Q = Q # Matrice Q de l'agent\n",
        "        self.Nsa = None # Nombre de fois où l'agent est passé dans un état et a pris une action\n",
        "        self.state = state # État initial de l'agent\n",
        "        self.RS = None # Générateur de nombres aléatoires pour l'exploration\n",
        "\n",
        "    def get_delta(self, r, x, a, y, done):\n",
        "        \"\"\"\n",
        "        Calcule la différence entre la valeur Q actuelle et la valeur Q attendue pour l'état et l'action courants\n",
        "        :param r: reward (récompense obtenue)\n",
        "        :param x: current state (état courant)\n",
        "        :param a: current action (action courante)\n",
        "        :param y: next state (prochain état)\n",
        "        :param done: indique si la partie est finie ou non\n",
        "        :return: la différence\n",
        "        \"\"\"\n",
        "        max_q_y_a = # La valeur Q maximale pour le prochain état\n",
        "        q_x_a =  # La valeur Q actuelle pour l'état et l'action courants\n",
        "\n",
        "        return r + self.gamma*max_q_y_a - q_x_a\n",
        "\n",
        "    def get_learning_rate(self, s, a):\n",
        "      \"\"\"\n",
        "      Utilisé pour calculer le taux d'apprentissage pour l'agent en fonction de l'état courant (s) et de l'action courante (a).\n",
        "      \"\"\"\n",
        "        if self.learning_rate is None:\n",
        "            return max(1.0/max(1.0, self.Nsa[s, a])**self.alpha, self.min_learning_rate)\n",
        "        else:\n",
        "            return max(self.learning_rate, self.min_learning_rate)"
      ]
    },
    {
      "cell_type": "code",
      "execution_count": null,
      "metadata": {
        "id": "K-jKv0obLiJG"
      },
      "outputs": [],
      "source": [
        "# ---------------------------\n",
        "# Convergence of Q-Learning\n",
        "# ---------------------------\n",
        "\n",
        "# Number of Q learning iterations\n",
        "n_steps = int(5e5)  \n",
        "#n_steps = 10\n",
        "\n",
        "# Get optimal value function and its greedy policy\n",
        "Q0 =  # Initialisation de la matrice Q \n",
        "Q_opt, pi_opt = # Obtention de la valeur optimale de Q et de la politique optimale\n",
        "\n",
        "# Create qlearning object\n",
        "qlearning =  # création de l'objet QLearning en utilisant l'environnement et le taux d'actualisation\n",
        "\n",
        "# Iterate\n",
        "tt = 0\n",
        "Q_est =  # matrice pour stocker les estimation de Q\n",
        "while tt < n_steps:\n",
        "    qlearning.step() # Mettre à jour la matrice Q\n",
        "    # Store estimate of Q*\n",
        "    Q_est[tt, :, :] = qlearning.Q # stocker l'estimation de Q à chaque itération\n",
        "    tt +=1\n",
        "\n",
        "# Compute greedy policy (with estimated Q)\n",
        "greedy_policy = np.argmax(qlearning.Q, axis=1)\n",
        "\n",
        "# Plot\n",
        "diff = np.abs(Q_est - Q_opt).mean(axis=(1,2))\n",
        "plt.plot(diff)\n",
        "plt.xlabel('iteration')\n",
        "plt.ylabel('Error')\n",
        "plt.title(\"Q-learning convergence\")\n",
        "\n",
        "print(env.render())\n",
        "print(\"optimal policy: \", pi_opt)\n",
        "print(\"est policy:\", greedy_policy)\n",
        "\n",
        "for state in env.states:\n",
        "    print(state)\n",
        "    print(\"true: \", Q_opt[state, :])\n",
        "    print(\"est: \", Q_est[-1,state, :])\n",
        "    print(\"----------------------------\")\n",
        "\n"
      ]
    },
    {
      "cell_type": "markdown",
      "metadata": {
        "id": "qkD9ZMc_QjTH"
      },
      "source": [
        "# Exercise 4: SARSA\n",
        "\n",
        "SARSA est similaire au Q learning, mais c'est un algorithme *on policy* : il suit une politique (stochastique) $\\pi_Q$ et met à jour son estimation vers la valeur de cette politique. Un choix possible est :\n",
        "\n",
        "$$\n",
        "\\pi_Q(a|s) = \\frac{ \\exp(\\tau^{-1}Q(s,a))  }{\\sum_{a'}\\exp(\\tau^{-1}Q(s,a')) }\n",
        "$$\n",
        "où $\\tau$ est un paramètre de \"controle\" : lorsque $\\tau$ s'approche de 0, $\\pi_Q(a|s)$ se rapproche de la politique greedy (déterministe) $a \\in \\arg\\max_{a'}Q(s,a')$.\n",
        "\n",
        "À chaque instant $t$, SARSA conserve une estimation $\\hat{Q}_t$ de la vraie Q fonction  et utilise $\\pi_{\\hat{Q}_t}(a|s)$ pour choisir l'action $a_t$. Si $\\tau \\to 0$ avec un taux approprié comme $t \\to \\infty$, $\\hat{Q}_t$ converge vers $Q$ et $\\pi_{\\hat{Q}_t}(a|s)$ converge vers la politique optimale $\\pi^*$. \n",
        "\n",
        "La mise à jour SARSA au temps $t$ est effectuée comme suit :\n",
        "\n",
        "1. Dans l'état $s_t$, on effectue l'action $a_t \\sim \\pi_{\\hat{Q}_t}(a|s_t)$ ;\n",
        "2. Observer $s_{t+1}$ et la récompense $r_t$ ;\n",
        "3. Echantillonner l'action suivante $a_{t+1} \\sim \\pi_{\\hat{Q}_t}(a|s_{t+1})$;\n",
        "\n",
        "4. Calculer $\\delta_t = r_t + \\gamma \\hat{Q}_t(s_{t+1}, a_{t+1}) - \\hat{Q}_t(s_t, a_t)$;\n",
        "5. Actualisez $\\hat{Q}_{t+1}(s, a) = \\hat{Q}_t(s, a) + \\alpha_t(s,a)\\delta_t\\mathbb{1}\\{s=s_t, a=a_t\\}$."
      ]
    },
    {
      "cell_type": "code",
      "execution_count": null,
      "metadata": {
        "id": "09ySBG-wNHf1"
      },
      "outputs": [],
      "source": [
        "#-------------------------------\n",
        "# SARSA implementation\n",
        "# ------------------------------\n",
        "\n",
        "class Sarsa:\n",
        "    \"\"\"\n",
        "    Implements SARSA algorithm.\n",
        "    \"\"\"\n",
        "    def __init__(self, env, gamma, learning_rate=None, tau=1.0): # Again, those are suggestions, you can add more arguments\n",
        "        pass\n",
        "    def act():\n",
        "        pass\n",
        "    def optimize():\n",
        "        pass\n"
      ]
    },
    {
      "cell_type": "code",
      "execution_count": null,
      "metadata": {
        "id": "SijRIA58NIvC"
      },
      "outputs": [],
      "source": [
        "# ---------------------------\n",
        "# Convergence of SARSA\n",
        "# ---------------------------\n",
        "\n",
        "# Create SARSA object\n",
        "sarsa = Sarsa(env, gamma=env.gamma)\n",
        "\n",
        "# Again, you can use Q_opt and pi_opt from value_iteration to check sarsa's convergence. "
      ]
    },
    {
      "cell_type": "markdown",
      "metadata": {
        "id": "7PoRzvSbNPmI"
      },
      "source": [
        "Comment ces deux algorithmes se comportent-ils ? \n",
        "Trouvent-ils tous les deux la politique optimale ?"
      ]
    },
    {
      "cell_type": "code",
      "execution_count": null,
      "metadata": {
        "id": "L6SZTfCUQjTf"
      },
      "outputs": [],
      "source": []
    }
  ],
  "metadata": {
    "colab": {
      "provenance": []
    },
    "kernelspec": {
      "display_name": "TP_Apprentissage",
      "language": "python",
      "name": "python3"
    },
    "language_info": {
      "codemirror_mode": {
        "name": "ipython",
        "version": 3
      },
      "file_extension": ".py",
      "mimetype": "text/x-python",
      "name": "python",
      "nbconvert_exporter": "python",
      "pygments_lexer": "ipython3",
      "version": "3.10.8"
    },
    "vscode": {
      "interpreter": {
        "hash": "1e8b2337a5f82f3761e6913831a1736232f5dcfd3c7c12c6566b041b458132d7"
      }
    }
  },
  "nbformat": 4,
  "nbformat_minor": 0
}
