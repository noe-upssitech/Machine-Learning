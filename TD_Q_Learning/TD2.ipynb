{
  "cells": [
    {
      "cell_type": "code",
      "execution_count": null,
      "metadata": {
        "id": "9TA3XA92nnAO"
      },
      "outputs": [],
      "source": [
        "import numpy as np\n",
        "\n",
        "def epsilon_greedy(arms, epsilon, plays, rewards):\n",
        "    n_arms = len(arms)\n",
        "    #n_plays = np.sum(plays)\n",
        "    \n",
        "    if np.random.rand() > epsilon:\n",
        "      val = [i / j for i, j in zip(rewards, plays)]\n",
        "      arm = np.argmax(val) \n",
        "      #arm = np.argmax(rewards/(plays))\n",
        "    else:\n",
        "      arm = np.random.randint(n_arms)\n",
        "    return arm"
      ]
    },
    {
      "cell_type": "code",
      "execution_count": null,
      "metadata": {
        "id": "GuMQQ_1YaVDu"
      },
      "outputs": [],
      "source": [
        "# arms represents the different options (or \"arms\") that are available to choose from\n",
        "arms = [0, 1, 2, 3]\n",
        "\n",
        "# epsilon is the probability of choosing a random arm instead of the greedy arm\n",
        "epsilon = 0.1\n",
        "\n",
        "# plays is the number of times each arm has been played, Add small value to avoid divide by zero\n",
        "plays = [0.000001, 0, 0.000001, 0.000001]\n",
        "\n",
        "# rewards is the number of rewards received from playing each arm\n",
        "rewards = [0, 0, 0, 0]"
      ]
    },
    {
      "cell_type": "code",
      "execution_count": null,
      "metadata": {
        "id": "TgVDcS3pVSJL"
      },
      "outputs": [],
      "source": [
        "np.random.seed(seed=42)"
      ]
    },
    {
      "cell_type": "code",
      "execution_count": null,
      "metadata": {
        "colab": {
          "base_uri": "https://localhost:8080/"
        },
        "id": "ujXKkYORann-",
        "outputId": "6b820bbd-2424-48de-deaa-36d28de91f5f"
      },
      "outputs": [
        {
          "data": {
            "text/plain": [
              "3"
            ]
          },
          "execution_count": 31,
          "metadata": {},
          "output_type": "execute_result"
        }
      ],
      "source": [
        "epsilon_greedy(arms, epsilon, plays, rewards)"
      ]
    },
    {
      "cell_type": "code",
      "execution_count": null,
      "metadata": {
        "id": "ZfTTgz6pbga7"
      },
      "outputs": [],
      "source": [
        "# arms represents the different options (or \"arms\") that are available to choose from\n",
        "arms = [0, 1, 2, 3]\n",
        "\n",
        "# epsilon is the probability of choosing a random arm instead of the greedy arm\n",
        "epsilon = 0.1\n",
        "\n",
        "# plays is the number of times each arm has been played\n",
        "plays = [10, 10, 10, 10]\n",
        "\n",
        "# rewards is the number of rewards received from playing each arm\n",
        "rewards = [4, 8, 1, 0]"
      ]
    },
    {
      "cell_type": "code",
      "execution_count": null,
      "metadata": {
        "colab": {
          "base_uri": "https://localhost:8080/"
        },
        "id": "5Bqe3UWgbsY1",
        "outputId": "5d2d4b45-d687-46d8-fa9c-25647958eda2"
      },
      "outputs": [
        {
          "data": {
            "text/plain": [
              "1"
            ]
          },
          "execution_count": 32,
          "metadata": {},
          "output_type": "execute_result"
        }
      ],
      "source": [
        "epsilon_greedy(arms, epsilon, plays, rewards)"
      ]
    },
    {
      "cell_type": "code",
      "execution_count": null,
      "metadata": {
        "colab": {
          "base_uri": "https://localhost:8080/"
        },
        "id": "qvMqV5ExVcuy",
        "outputId": "89c7c573-d52b-4700-afcd-ead26c720a3c"
      },
      "outputs": [
        {
          "name": "stdout",
          "output_type": "stream",
          "text": [
            "        arm_0     arm_1     arm_2     arm_3\n",
            "0    3.545414 -1.592216  0.696622  3.133103\n",
            "1    0.987866  5.960400  1.151999  8.522315\n",
            "2    0.508195  2.449399  1.892308  4.571640\n",
            "3   -2.269379  3.401923  5.813680 -1.121421\n",
            "4    0.110270  2.969743  5.023866  4.832912\n",
            "..        ...       ...       ...       ...\n",
            "995  1.834588  1.967255  5.219532  5.686697\n",
            "996 -2.603663  6.274880  5.185905  5.241576\n",
            "997  5.983356 -1.365396  2.372732 -0.174601\n",
            "998  2.442306 -1.180133  6.679522  8.165093\n",
            "999 -2.981660  4.398476  4.249880  3.056689\n",
            "\n",
            "[1000 rows x 4 columns]\n"
          ]
        }
      ],
      "source": [
        "import pandas as pd\n",
        "\n",
        "xp = 1000\n",
        "\n",
        "arm_0 = np.random.normal(1, 2.5, size=(1, xp))\n",
        "arm_1 = np.random.normal(2, 2.5, size=(1, xp))\n",
        "arm_2 = np.random.normal(3, 2.5, size=(1, xp))\n",
        "arm_3 = np.random.normal(4, 2.5, size=(1, xp))\n",
        "\n",
        "dataset = pd.DataFrame(np.concatenate((arm_0, arm_1, arm_2, arm_3), axis=0).T, columns=[\"arm_0\", \"arm_1\", \"arm_2\", \"arm_3\"])\n",
        "print(dataset)\n",
        "\n",
        "\n",
        "arms = [0, 1, 2, 3]\n",
        "epsilon = 0.1\n",
        "\n",
        "plays = [0.000001, 0.000001, 0.000001, 0.000001]\n",
        "rewards = [0, 0, 0, 0]\n",
        "\n",
        "choices =  np.zeros(xp)\n",
        "save_cum_reward = np.zeros(xp)\n",
        "\n",
        "for i in range(xp):\n",
        "  choice_alg = epsilon_greedy(arms, epsilon, plays, rewards)\n",
        "  #print(choice_alg)\n",
        "  rewards[choice_alg] += dataset.iloc[i][choice_alg]\n",
        "  plays[choice_alg] += 1\n",
        "  choices[i] = choice_alg\n",
        "  save_cum_reward[i] += dataset.iloc[i][choice_alg]\n",
        "\n"
      ]
    },
    {
      "cell_type": "code",
      "execution_count": null,
      "metadata": {
        "colab": {
          "base_uri": "https://localhost:8080/",
          "height": 281
        },
        "id": "vXEyaVuNgtEd",
        "outputId": "c56651d1-76ed-4575-a510-b8b75bf8d94e"
      },
      "outputs": [
        {
          "data": {
            "image/png": "[encoded data removed]",
            "text/plain": [
              "<Figure size 432x288 with 1 Axes>"
            ]
          },
          "metadata": {
            "needs_background": "light"
          },
          "output_type": "display_data"
        }
      ],
      "source": [
        "import numpy as np\n",
        "import matplotlib.pyplot as plt\n",
        "\n",
        "x = range(xp)\n",
        "y = save_cum_reward\n",
        "\n",
        "plt.title(\"Cum Reward\")\n",
        "plt.plot(x, y, color=\"red\")\n",
        "\n",
        "plt.show()"
      ]
    },
    {
      "cell_type": "code",
      "execution_count": null,
      "metadata": {
        "colab": {
          "base_uri": "https://localhost:8080/",
          "height": 281
        },
        "id": "GdfjmMDYdwUE",
        "outputId": "32334b80-a15c-4ca6-b467-ce3c15d8270f"
      },
      "outputs": [
        {
          "data": {
            "image/png": "[encoded data removed]",
            "text/plain": [
              "<Figure size 432x288 with 1 Axes>"
            ]
          },
          "metadata": {
            "needs_background": "light"
          },
          "output_type": "display_data"
        }
      ],
      "source": [
        "import matplotlib.pyplot as plt\n",
        "\n",
        "\n",
        "plt.hist(choices, bins='auto') \n",
        "plt.title(\"Histogram of choices\")\n",
        "plt.show()"
      ]
    },
    {
      "cell_type": "code",
      "execution_count": null,
      "metadata": {
        "colab": {
          "base_uri": "https://localhost:8080/"
        },
        "id": "Q1GDv5YIgKOO",
        "outputId": "cf2bd194-36cf-4854-882e-80df95b0d379"
      },
      "outputs": [
        {
          "name": "stdout",
          "output_type": "stream",
          "text": [
            "4.029698521847486\n"
          ]
        }
      ],
      "source": [
        "from numpy.ma.core import mean\n",
        "average_best_arm = mean(dataset[dataset.columns[0]])\n",
        "for i in arms:\n",
        "  if average_best_arm < mean(dataset[dataset.columns[i]]):\n",
        "    average_best_arm = mean(dataset[dataset.columns[i]])\n",
        "\n",
        "print(average_best_arm)\n",
        "\n",
        "average_regret= np.zeros(xp)\n",
        "average_regret[0] = 0\n",
        "\n",
        "for i in range(1,xp) :\n",
        "  average_regret[i] = average_best_arm - (save_cum_reward[i]/i)"
      ]
    },
    {
      "cell_type": "code",
      "execution_count": null,
      "metadata": {
        "colab": {
          "base_uri": "https://localhost:8080/",
          "height": 281
        },
        "id": "a1cBsXkLi6YJ",
        "outputId": "cca32a0d-55cd-496c-a399-92f4fbd43730"
      },
      "outputs": [
        {
          "data": {
            "image/png": "[encoded data removed]",
            "text/plain": [
              "<Figure size 432x288 with 1 Axes>"
            ]
          },
          "metadata": {
            "needs_background": "light"
          },
          "output_type": "display_data"
        }
      ],
      "source": [
        "x = range(0,xp)\n",
        "y = average_regret\n",
        "\n",
        "plt.title(\"Cum Regret\")\n",
        "plt.plot(x, y, color=\"red\")\n",
        "\n",
        "plt.show()"
      ]
    },
    {
      "cell_type": "code",
      "execution_count": null,
      "metadata": {
        "id": "4sEjYzxrKKdZ"
      },
      "outputs": [],
      "source": [
        "def UCB(arms, plays, rewards):\n",
        "    n_arms = len(arms)\n",
        "    n_plays = np.sum(plays)\n",
        "    \n",
        "    upper_bound = np.zeros(n_arms)\n",
        "    for arm in range(n_arms):\n",
        "        if plays[arm] > 0:\n",
        "            average_reward = rewards[arm] / plays[arm]\n",
        "            delta = np.sqrt(2 * np.log(n_plays) / plays[arm])\n",
        "            upper_bound[arm] = average_reward + delta\n",
        "        else:\n",
        "            upper_bound[arm] = float('inf')\n",
        "    return np.argmax(upper_bound)"
      ]
    },
    {
      "cell_type": "code",
      "execution_count": null,
      "metadata": {
        "colab": {
          "base_uri": "https://localhost:8080/"
        },
        "id": "gsoIzRPZKP1z",
        "outputId": "0a8e0d51-5f00-41eb-e5d9-41d392195e05"
      },
      "outputs": [
        {
          "name": "stdout",
          "output_type": "stream",
          "text": [
            "        arm_0     arm_1     arm_2     arm_3\n",
            "0    0.569063  3.246725  1.506547  6.776883\n",
            "1    2.786829 -2.856244  3.276045  5.887962\n",
            "2    4.194642  1.611444  5.992946  6.711194\n",
            "3    2.426218 -0.889269  1.072395  3.470276\n",
            "4    1.254308  1.493486  5.502051  2.833453\n",
            "..        ...       ...       ...       ...\n",
            "995  4.971118  0.236708  5.948158  6.095035\n",
            "996 -0.712468  3.239414  4.977850  3.748260\n",
            "997  3.002954  3.610971  2.288011  1.634215\n",
            "998  2.913505  0.303763  0.054551  6.937035\n",
            "999  3.683532  1.236251  4.082126 -0.697452\n",
            "\n",
            "[1000 rows x 4 columns]\n"
          ]
        },
        {
          "name": "stderr",
          "output_type": "stream",
          "text": [
            "<ipython-input-13-92089fd79eed>:9: RuntimeWarning: invalid value encountered in sqrt\n",
            "  delta = np.sqrt(2 * np.log(n_plays) / plays[arm])\n"
          ]
        }
      ],
      "source": [
        "import pandas as pd\n",
        "\n",
        "xp = 1000\n",
        "\n",
        "arm_0 = np.random.normal(1, 2.5, size=(1, xp))\n",
        "arm_1 = np.random.normal(2, 2.5, size=(1, xp))\n",
        "arm_2 = np.random.normal(3, 2.5, size=(1, xp))\n",
        "arm_3 = np.random.normal(4, 2.5, size=(1, xp))\n",
        "\n",
        "dataset = pd.DataFrame(np.concatenate((arm_0, arm_1, arm_2, arm_3), axis=0).T, columns=[\"arm_0\", \"arm_1\", \"arm_2\", \"arm_3\"])\n",
        "print(dataset)\n",
        "\n",
        "\n",
        "arms = [0, 1, 2, 3]\n",
        "epsilon = 0.1\n",
        "\n",
        "plays = [0.000001, 0.000001, 0.000001, 0.000001]\n",
        "rewards = [0, 0, 0, 0]\n",
        "\n",
        "choices =  np.zeros(xp)\n",
        "save_cum_reward = np.zeros(xp)\n",
        "\n",
        "for i in range(xp):\n",
        "  choice_alg = UCB(arms,  plays, rewards)\n",
        "  #print(choice_alg)\n",
        "  rewards[choice_alg] += dataset.iloc[i][choice_alg]\n",
        "  plays[choice_alg] += 1\n",
        "  choices[i] = choice_alg\n",
        "  save_cum_reward[i] += dataset.iloc[i][choice_alg]\n",
        "\n"
      ]
    },
    {
      "cell_type": "code",
      "execution_count": null,
      "metadata": {
        "colab": {
          "base_uri": "https://localhost:8080/",
          "height": 281
        },
        "id": "EV5SCxcONkLz",
        "outputId": "9a75e97d-2bb4-41f3-b2db-e2c633ea3b0c"
      },
      "outputs": [
        {
          "data": {
            "image/png": "[encoded data removed]",
            "text/plain": [
              "<Figure size 432x288 with 1 Axes>"
            ]
          },
          "metadata": {
            "needs_background": "light"
          },
          "output_type": "display_data"
        }
      ],
      "source": [
        "import matplotlib.pyplot as plt\n",
        "\n",
        "\n",
        "plt.hist(choices, bins='auto') \n",
        "plt.title(\"Histogram of choices\")\n",
        "plt.show()"
      ]
    },
    {
      "cell_type": "code",
      "execution_count": null,
      "metadata": {
        "colab": {
          "base_uri": "https://localhost:8080/"
        },
        "id": "LUFF2o0fNr3T",
        "outputId": "633d2531-0252-4587-cec6-305efde79200"
      },
      "outputs": [
        {
          "name": "stdout",
          "output_type": "stream",
          "text": [
            "3.9721181409450073\n"
          ]
        }
      ],
      "source": [
        "from numpy.ma.core import mean\n",
        "average_best_arm = mean(dataset[dataset.columns[0]])\n",
        "for i in arms:\n",
        "  if average_best_arm < mean(dataset[dataset.columns[i]]):\n",
        "    average_best_arm = mean(dataset[dataset.columns[i]])\n",
        "\n",
        "print(average_best_arm)\n",
        "\n",
        "average_regret= np.zeros(xp)\n",
        "average_regret[0] = 0\n",
        "\n",
        "for i in range(1,xp) :\n",
        "  average_regret[i] = average_best_arm - (save_cum_reward[i]/i)"
      ]
    },
    {
      "cell_type": "code",
      "execution_count": null,
      "metadata": {
        "colab": {
          "base_uri": "https://localhost:8080/",
          "height": 281
        },
        "id": "qPq_9EkDNnsz",
        "outputId": "ee75a6c0-ae97-42ab-f002-32b66fa00ff1"
      },
      "outputs": [
        {
          "data": {
            "image/png": "[encoded data removed]",
            "text/plain": [
              "<Figure size 432x288 with 1 Axes>"
            ]
          },
          "metadata": {
            "needs_background": "light"
          },
          "output_type": "display_data"
        }
      ],
      "source": [
        "x = range(0,xp)\n",
        "y = average_regret\n",
        "\n",
        "plt.title(\"Regret\")\n",
        "plt.plot(x, y, color=\"red\")\n",
        "\n",
        "plt.show()"
      ]
    }
  ],
  "metadata": {
    "colab": {
      "provenance": []
    },
    "kernelspec": {
      "display_name": "TP_Apprentissage",
      "language": "python",
      "name": "python3"
    },
    "language_info": {
      "name": "python",
      "version": "3.10.8 | packaged by conda-forge | (main, Nov 24 2022, 14:07:00) [MSC v.1916 64 bit (AMD64)]"
    },
    "vscode": {
      "interpreter": {
        "hash": "1e8b2337a5f82f3761e6913831a1736232f5dcfd3c7c12c6566b041b458132d7"
      }
    }
  },
  "nbformat": 4,
  "nbformat_minor": 0
}
